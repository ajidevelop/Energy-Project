{
 "cells": [
  {
   "cell_type": "code",
   "execution_count": null,
   "metadata": {
    "collapsed": true
   },
   "outputs": [],
   "source": [
    "@classmethod\n",
    "def new_monthly_usage(cls, uid):\n",
    "    dates = cls.query.filter_by(uid=uid).order_by(cls.week_start_year, cls.week_start_month, cls.week_start_day).all()\n",
    "    m_usage = 0\n",
    "    for position, item in enumerate(dates):\n",
    "        monthly = item.week_start_date.strftime('%m')\n",
    "        number_of_weeks = 0\n",
    "        while dates[position + number_of_weeks].week_start_date.strftime('%m') == monthly:\n",
    "            number_of_weeks += 1\n",
    "        if number_of_weeks < 4:\n",
    "            continue\n",
    "        try:\n",
    "            month = []\n",
    "            for i in range(len(dates[position: position + number_of_weeks])):\n",
    "                if i == 0:\n",
    "                    month.append(dates[position])\n",
    "                    m_usage += month[i].w_usage\n",
    "                    continue\n",
    "                weeks = dates[position + i].week_start_date - dates[position + i - 1].week_start_date\n",
    "                if weeks.days == 7:\n",
    "                    month.append(dates[position + i])\n",
    "                    m_usage += month[i].w_usage\n",
    "                else:\n",
    "                    m_usage = 0\n",
    "                    break\n",
    "        except AttributeError:\n",
    "            pass\n",
    "        else:\n",
    "            if len(month) >= 4:\n",
    "                MonthUsage.new_month_entry(datetime.date(month[0].week_start_year, month[0].week_start_month, 1), m_usage, uid)\n",
    "                m_usage = 0\n",
    "            else:\n",
    "                m_usage = 0\n"
   ]
  },
  {
   "cell_type": "markdown",
   "metadata": {},
   "source": [
    "This function adds new data to the monthly_usage databse based of weekly_usage. It accounted for the fact that months have 4 weeks and sometimes 5. It first queries all weekly_usage data entries for a paticular user based on their user id (uid). Then query returns a list of dictionary objects with each weekly usage. {{ m_usage }}."
   ]
  },
  {
   "cell_type": "code",
   "execution_count": 1,
   "metadata": {},
   "outputs": [],
   "source": []
  },
  {
   "cell_type": "code",
   "execution_count": null,
   "metadata": {},
   "outputs": [],
   "source": []
  }
 ],
 "metadata": {
  "kernelspec": {
   "display_name": "Python 3",
   "language": "python",
   "name": "python3"
  },
  "language_info": {
   "codemirror_mode": {
    "name": "ipython",
    "version": 3
   },
   "file_extension": ".py",
   "mimetype": "text/x-python",
   "name": "python",
   "nbconvert_exporter": "python",
   "pygments_lexer": "ipython3",
   "version": "3.6.6"
  }
 },
 "nbformat": 4,
 "nbformat_minor": 1
}
